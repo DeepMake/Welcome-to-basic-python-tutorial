{
  "cells": [
    {
      "metadata": {
        "_uuid": "8f2839f25d086af736a60e9eeb907d3b93b6e0e5",
        "_cell_guid": "b1076dfc-b9ad-4769-8c92-a6c4dae69d19",
        "trusted": true,
        "collapsed": true
      },
      "cell_type": "code",
      "source": "# This Python 3 environment comes with many helpful analytics libraries installed\n# It is defined by the kaggle/python docker image: https://github.com/kaggle/docker-python\n# For example, here's several helpful packages to load in \n\nimport numpy as np # linear algebra\nimport pandas as pd # data processing, CSV file I/O (e.g. pd.read_csv)\n\n# Input data files are available in the \"../input/\" directory.\n# For example, running this (by clicking run or pressing Shift+Enter) will list the files in the input directory\n\nimport os\nprint(os.listdir(\"../input\"))\n\n# Any results you write to the current directory are saved as output.",
      "execution_count": null,
      "outputs": []
    },
    {
      "metadata": {
        "_cell_guid": "79c7e3d0-c299-4dcb-8224-4455121ee9b0",
        "_uuid": "d629ff2d2480ee46fbb7e2d37f6b5fab8052498a",
        "trusted": true,
        "collapsed": true
      },
      "cell_type": "code",
      "source": "# While Loop\ni=1\nwhile i <= 10:\n    print(i)\n    i+=1\nprint(\"This is just a basic while Loop\")    \n",
      "execution_count": null,
      "outputs": []
    },
    {
      "metadata": {
        "trusted": true,
        "collapsed": true,
        "_uuid": "5aaedd7b3ced9450faf6c79c9dec118a2763df3e"
      },
      "cell_type": "code",
      "source": "",
      "execution_count": null,
      "outputs": []
    },
    {
      "metadata": {
        "trusted": true,
        "_uuid": "68f748bc5220fe225ed189ec938d20068a2e8a40"
      },
      "cell_type": "code",
      "source": "# Basic game\n\nsecret_word = \"hi\"\nguess = \"\"\nguess_count = 0\nguess_limit = 3\nout_of_guess = False\nwhile guess != secret_word and not(out_of_guess):\n    if guess_count < guess_limit:\n        guess = input(\"Guess the secret word : \")\n        guess_count += 1\n    else:\n        out_of_guess = True\n        \nif out_of_guess:\n    print(\"You Lost the Game \")\nelse:    \n    print(\"You Win !\")    \n",
      "execution_count": 1,
      "outputs": [
        {
          "output_type": "stream",
          "name": "stdout",
          "text": "Guess the secret word : hi\nYou Win !\n"
        }
      ]
    },
    {
      "metadata": {
        "trusted": true,
        "collapsed": true,
        "_uuid": "b215c6a4ca894c2635a6bed0a253687d2c842408"
      },
      "cell_type": "code",
      "source": "",
      "execution_count": null,
      "outputs": []
    },
    {
      "metadata": {
        "trusted": true,
        "collapsed": true,
        "_uuid": "cdeee930e11e0f59ea37022a0c6e5c37e2f2f308"
      },
      "cell_type": "code",
      "source": "",
      "execution_count": null,
      "outputs": []
    },
    {
      "metadata": {
        "trusted": true,
        "_uuid": "fc37bc7307f799bafec9e44be9e4902f060caaac"
      },
      "cell_type": "code",
      "source": "# for loop\n\ni = 1\nfor letter in \"Education\":\n    print(letter)",
      "execution_count": 2,
      "outputs": [
        {
          "output_type": "stream",
          "text": "E\nd\nu\nc\na\nt\ni\no\nn\n",
          "name": "stdout"
        }
      ]
    },
    {
      "metadata": {
        "trusted": true,
        "_uuid": "92b70a0d7463951e5f4d3b8e37a64095e2e8838f"
      },
      "cell_type": "code",
      "source": "# for loop\n\nfrnd = [\"jim\", \"joe\", \"joli\"]\n\nfor index in range(len(frnd)):\n    print(frnd[index])",
      "execution_count": 4,
      "outputs": [
        {
          "output_type": "stream",
          "text": "jim\njoe\njoli\n",
          "name": "stdout"
        }
      ]
    },
    {
      "metadata": {
        "trusted": true,
        "_uuid": "83ed8af6920e6c624d5a27cf6e7ce8c60c601710"
      },
      "cell_type": "code",
      "source": "# for loop\n\nfrnd = [\"jim\", \"joe\", \"joli\"]\n\nfor index in range(7):\n    print(frnd[2])",
      "execution_count": 9,
      "outputs": [
        {
          "output_type": "stream",
          "text": "joli\njoli\njoli\njoli\njoli\njoli\njoli\n",
          "name": "stdout"
        }
      ]
    },
    {
      "metadata": {
        "trusted": true,
        "_uuid": "740b8e2043af527671787946a3c495b636f29c04"
      },
      "cell_type": "code",
      "source": "# exponent function and for loop\n\ndef raise_to_power(base_num, pow_num):\n    result = 1\n    for index in range(pow_num):\n        result = result * base_num\n    return result\n\nprint(raise_to_power(12, 3))",
      "execution_count": 16,
      "outputs": [
        {
          "output_type": "stream",
          "text": "1728\n",
          "name": "stdout"
        }
      ]
    },
    {
      "metadata": {
        "trusted": true,
        "_uuid": "455a9119c98a479943e494db80c03bc71a87dde8"
      },
      "cell_type": "code",
      "source": "# 2D lists & Nested lopps\nnumber_grid = [\n    [1, 2, 3],\n    [4, 5, 6],\n    [7, 8, 9],\n    [0]\n]\n\nfor row in number_grid:\n    for col in row:\n        print(col)\n\nprint(number_grid[0][2])",
      "execution_count": 23,
      "outputs": [
        {
          "output_type": "stream",
          "text": "1\n2\n3\n4\n5\n6\n7\n8\n9\n0\n3\n",
          "name": "stdout"
        }
      ]
    },
    {
      "metadata": {
        "trusted": true,
        "_uuid": "868c8f6040477b78e5f0d23537beaf9b17c358ee"
      },
      "cell_type": "code",
      "source": "# Build a Translator\n\ndef translate(phrase):\n    trans = \"\"\n    for letter in phrase:\n        if letter in \"AEIOUaeiou\":\n            trans = trans + \"g\"\n        else:\n            trans = trans + letter\n    return trans\n\nprint(translate(input(\"Enter a phrase: \")))",
      "execution_count": 26,
      "outputs": [
        {
          "output_type": "stream",
          "name": "stdout",
          "text": "Enter a phrase: Hello their hoe are you doing?\nHgllg thggr hgg grg ygg dggng?\n"
        }
      ]
    },
    {
      "metadata": {
        "trusted": true,
        "_uuid": "742015053658dbb641630ff964d74d06b74808a2"
      },
      "cell_type": "code",
      "source": "#Try accept block\ntry:\n    value = 5/8\n    num = int(input(\"Enter the number:\"))\n    print(num)\nexcept ZeroDivisionError as err:\n    print(err)\nexcept ValueError as er:\n    print(er)",
      "execution_count": 35,
      "outputs": [
        {
          "output_type": "stream",
          "name": "stdout",
          "text": "Enter the number:jo\ninvalid literal for int() with base 10: 'jo'\n"
        }
      ]
    },
    {
      "metadata": {
        "trusted": true,
        "collapsed": true,
        "_uuid": "29862f14688f40556e5036402876cc0948f255b2"
      },
      "cell_type": "code",
      "source": "# reading from external file \n\n",
      "execution_count": null,
      "outputs": []
    },
    {
      "metadata": {
        "trusted": true,
        "collapsed": true,
        "_uuid": "af73634d4de719f112ac6fa59908c6afc2274c9b"
      },
      "cell_type": "code",
      "source": "",
      "execution_count": null,
      "outputs": []
    },
    {
      "metadata": {
        "trusted": true,
        "collapsed": true,
        "_uuid": "1f85dc63dcdee23bff880e6db95b12ca6d4f1c93"
      },
      "cell_type": "code",
      "source": "",
      "execution_count": null,
      "outputs": []
    },
    {
      "metadata": {
        "trusted": true,
        "collapsed": true,
        "_uuid": "1c2179dc06e56e82c293a6eefa362cce64390aa4"
      },
      "cell_type": "code",
      "source": "",
      "execution_count": null,
      "outputs": []
    },
    {
      "metadata": {
        "trusted": true,
        "collapsed": true,
        "_uuid": "b8d1a9d2355c93605d3d24758b7542e386128efa"
      },
      "cell_type": "code",
      "source": "",
      "execution_count": null,
      "outputs": []
    },
    {
      "metadata": {
        "trusted": true,
        "collapsed": true,
        "_uuid": "f71ae58bbc990866f62666d94169578b0105da4a"
      },
      "cell_type": "code",
      "source": "",
      "execution_count": null,
      "outputs": []
    },
    {
      "metadata": {
        "trusted": true,
        "collapsed": true,
        "_uuid": "5b5f5741651a5cf1b51f8a10a6ff892a2a11a650"
      },
      "cell_type": "code",
      "source": "",
      "execution_count": null,
      "outputs": []
    },
    {
      "metadata": {
        "trusted": true,
        "collapsed": true,
        "_uuid": "7bffbd81c6296b9955d805575d02c06696233d7f"
      },
      "cell_type": "code",
      "source": "",
      "execution_count": null,
      "outputs": []
    },
    {
      "metadata": {
        "trusted": true,
        "collapsed": true,
        "_uuid": "589825d609a8244910e1540acfe9743fe4576d95"
      },
      "cell_type": "code",
      "source": "",
      "execution_count": null,
      "outputs": []
    },
    {
      "metadata": {
        "trusted": true,
        "collapsed": true,
        "_uuid": "af25f128e92d8de92fbb89b06a3535b843447166"
      },
      "cell_type": "code",
      "source": "",
      "execution_count": null,
      "outputs": []
    },
    {
      "metadata": {
        "trusted": true,
        "collapsed": true,
        "_uuid": "bdfa171ea3a1a2d6aceb582feffdfdc290693285"
      },
      "cell_type": "code",
      "source": "",
      "execution_count": null,
      "outputs": []
    },
    {
      "metadata": {
        "trusted": true,
        "collapsed": true,
        "_uuid": "1145eade9e1c0a148da80f404256975d2aae72fb"
      },
      "cell_type": "code",
      "source": "",
      "execution_count": null,
      "outputs": []
    },
    {
      "metadata": {
        "trusted": true,
        "collapsed": true,
        "_uuid": "2e6a3102e02edc328ade73608dd56d3851f21b90"
      },
      "cell_type": "code",
      "source": "",
      "execution_count": null,
      "outputs": []
    },
    {
      "metadata": {
        "trusted": true,
        "collapsed": true,
        "_uuid": "6a5a6d4dbae927613759ef25833aa5a395f061ab"
      },
      "cell_type": "code",
      "source": "",
      "execution_count": null,
      "outputs": []
    },
    {
      "metadata": {
        "trusted": true,
        "collapsed": true,
        "_uuid": "ef9afe67e406fd0a56d6e79bec5ad27592fd924a"
      },
      "cell_type": "code",
      "source": "",
      "execution_count": null,
      "outputs": []
    },
    {
      "metadata": {
        "trusted": true,
        "collapsed": true,
        "_uuid": "61a7757fdb7188e03fdfd1dd71cb848e8bc6632f"
      },
      "cell_type": "code",
      "source": "",
      "execution_count": null,
      "outputs": []
    },
    {
      "metadata": {
        "trusted": true,
        "collapsed": true,
        "_uuid": "458abbb46b153f6673ebc221390c36b62775b35d"
      },
      "cell_type": "code",
      "source": "",
      "execution_count": null,
      "outputs": []
    },
    {
      "metadata": {
        "trusted": true,
        "collapsed": true,
        "_uuid": "1e65fcd822c7a662f728b7a0eaeecc365a85f848"
      },
      "cell_type": "code",
      "source": "",
      "execution_count": null,
      "outputs": []
    },
    {
      "metadata": {
        "trusted": true,
        "collapsed": true,
        "_uuid": "c0de859e92bb13eb7ee4fa1a9f6d00f6c913383a"
      },
      "cell_type": "code",
      "source": "",
      "execution_count": null,
      "outputs": []
    },
    {
      "metadata": {
        "trusted": true,
        "collapsed": true,
        "_uuid": "bd9a9fde73c4956afdfd122fe57d70dfd6bbd92b"
      },
      "cell_type": "code",
      "source": "",
      "execution_count": null,
      "outputs": []
    },
    {
      "metadata": {
        "trusted": true,
        "collapsed": true,
        "_uuid": "d8cf9b2c9bd932a1e75be96dfa11f4751444a274"
      },
      "cell_type": "code",
      "source": "",
      "execution_count": null,
      "outputs": []
    },
    {
      "metadata": {
        "trusted": true,
        "collapsed": true,
        "_uuid": "c70e953f8b5c3c56ff1277aa88b78a62528c8317"
      },
      "cell_type": "code",
      "source": "",
      "execution_count": null,
      "outputs": []
    },
    {
      "metadata": {
        "trusted": true,
        "collapsed": true,
        "_uuid": "b2244ae09f42452482f187e6ae23e39d2c79ce19"
      },
      "cell_type": "code",
      "source": "",
      "execution_count": null,
      "outputs": []
    },
    {
      "metadata": {
        "trusted": true,
        "collapsed": true,
        "_uuid": "35a5a3e7d76c4c1496eb1325f3ba0b5d5d3bfbab"
      },
      "cell_type": "code",
      "source": "",
      "execution_count": null,
      "outputs": []
    },
    {
      "metadata": {
        "trusted": true,
        "collapsed": true,
        "_uuid": "a5486f124ee52fabccf04328b1517f185e790dd4"
      },
      "cell_type": "code",
      "source": "",
      "execution_count": null,
      "outputs": []
    },
    {
      "metadata": {
        "trusted": true,
        "collapsed": true,
        "_uuid": "2b5d297408a2b2fde235a5311902059d4f4eb293"
      },
      "cell_type": "code",
      "source": "",
      "execution_count": null,
      "outputs": []
    },
    {
      "metadata": {
        "trusted": true,
        "collapsed": true,
        "_uuid": "e477db2e28327a3650407e2edcbc75a5a5e7dad7"
      },
      "cell_type": "code",
      "source": "",
      "execution_count": null,
      "outputs": []
    },
    {
      "metadata": {
        "trusted": true,
        "collapsed": true,
        "_uuid": "2032af1bf3ad99e3508f70e54271f284e492e68a"
      },
      "cell_type": "code",
      "source": "",
      "execution_count": null,
      "outputs": []
    },
    {
      "metadata": {
        "trusted": true,
        "collapsed": true,
        "_uuid": "b19c7babb6a0050b1abb9de91791524d4242026b"
      },
      "cell_type": "code",
      "source": "",
      "execution_count": null,
      "outputs": []
    },
    {
      "metadata": {
        "trusted": true,
        "collapsed": true,
        "_uuid": "4c16b376ca7da325425f1bf20832a62916752ed1"
      },
      "cell_type": "code",
      "source": "",
      "execution_count": null,
      "outputs": []
    },
    {
      "metadata": {
        "trusted": true,
        "collapsed": true,
        "_uuid": "ae9b76e1cc806da51b5f72a22db4265425d8a25f"
      },
      "cell_type": "code",
      "source": "",
      "execution_count": null,
      "outputs": []
    },
    {
      "metadata": {
        "trusted": true,
        "collapsed": true,
        "_uuid": "642092bf97009aba17eee19f3bf645d1f4a37352"
      },
      "cell_type": "code",
      "source": "",
      "execution_count": null,
      "outputs": []
    },
    {
      "metadata": {
        "trusted": true,
        "collapsed": true,
        "_uuid": "bb46fbf617af40ff3afd72648272b4e538a4c146"
      },
      "cell_type": "code",
      "source": "",
      "execution_count": null,
      "outputs": []
    },
    {
      "metadata": {
        "trusted": true,
        "collapsed": true,
        "_uuid": "5df2830d518510ac49748a76a6a8c7c2d78ed672"
      },
      "cell_type": "code",
      "source": "",
      "execution_count": null,
      "outputs": []
    },
    {
      "metadata": {
        "trusted": true,
        "collapsed": true,
        "_uuid": "7d1e817873f5f401d6106bf76f32e6ad0f76848e"
      },
      "cell_type": "code",
      "source": "",
      "execution_count": null,
      "outputs": []
    },
    {
      "metadata": {
        "trusted": true,
        "collapsed": true,
        "_uuid": "0d57c9fa3e2a66aac788ec38b712a7b18bb1391c"
      },
      "cell_type": "code",
      "source": "",
      "execution_count": null,
      "outputs": []
    },
    {
      "metadata": {
        "trusted": true,
        "collapsed": true,
        "_uuid": "18a7b773ef1a17cdf0ea3711229b58f4e7f02208"
      },
      "cell_type": "code",
      "source": "",
      "execution_count": null,
      "outputs": []
    },
    {
      "metadata": {
        "trusted": true,
        "collapsed": true,
        "_uuid": "64729e0ec2e7691e333f0f5049c20578b462a4a3"
      },
      "cell_type": "code",
      "source": "",
      "execution_count": null,
      "outputs": []
    },
    {
      "metadata": {
        "trusted": true,
        "collapsed": true,
        "_uuid": "144e7652883396afb8bb3fe3ac4d2f974d59adb2"
      },
      "cell_type": "code",
      "source": "",
      "execution_count": null,
      "outputs": []
    },
    {
      "metadata": {
        "trusted": true,
        "collapsed": true,
        "_uuid": "1019d0a8081fdba78cf4fcf5d293af71cea71e69"
      },
      "cell_type": "code",
      "source": "",
      "execution_count": null,
      "outputs": []
    },
    {
      "metadata": {
        "trusted": true,
        "collapsed": true,
        "_uuid": "1ed7b39f643e662644cd5ccd1781a8c99d6b4414"
      },
      "cell_type": "code",
      "source": "",
      "execution_count": null,
      "outputs": []
    },
    {
      "metadata": {
        "trusted": true,
        "collapsed": true,
        "_uuid": "fca8ca69dd7b3dcb596752c0e161a811ff558d45"
      },
      "cell_type": "code",
      "source": "",
      "execution_count": null,
      "outputs": []
    },
    {
      "metadata": {
        "trusted": true,
        "collapsed": true,
        "_uuid": "e7adc30add595532b3e302e4215b7d2ff194c00b"
      },
      "cell_type": "code",
      "source": "",
      "execution_count": null,
      "outputs": []
    },
    {
      "metadata": {
        "trusted": true,
        "collapsed": true,
        "_uuid": "ba3aa7095b630c5c4ca4ed84ba0f07274703a2a0"
      },
      "cell_type": "code",
      "source": "",
      "execution_count": null,
      "outputs": []
    }
  ],
  "metadata": {
    "kernelspec": {
      "display_name": "Python 3",
      "language": "python",
      "name": "python3"
    },
    "language_info": {
      "name": "python",
      "version": "3.6.6",
      "mimetype": "text/x-python",
      "codemirror_mode": {
        "name": "ipython",
        "version": 3
      },
      "pygments_lexer": "ipython3",
      "nbconvert_exporter": "python",
      "file_extension": ".py"
    }
  },
  "nbformat": 4,
  "nbformat_minor": 1
}