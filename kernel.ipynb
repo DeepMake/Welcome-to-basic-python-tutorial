{
  "cells": [
    {
      "metadata": {
        "_uuid": "8f2839f25d086af736a60e9eeb907d3b93b6e0e5",
        "_cell_guid": "b1076dfc-b9ad-4769-8c92-a6c4dae69d19",
        "trusted": true,
        "collapsed": true
      },
      "cell_type": "code",
      "source": "# This Python 3 environment comes with many helpful analytics libraries installed\n# It is defined by the kaggle/python docker image: https://github.com/kaggle/docker-python\n# For example, here's several helpful packages to load in \n\nimport numpy as np # linear algebra\nimport pandas as pd # data processing, CSV file I/O (e.g. pd.read_csv)\n\n# Input data files are available in the \"../input/\" directory.\n# For example, running this (by clicking run or pressing Shift+Enter) will list the files in the input directory\n\nimport os\nprint(os.listdir(\"../input\"))\n\n# Any results you write to the current directory are saved as output.",
      "execution_count": null,
      "outputs": []
    },
    {
      "metadata": {
        "_cell_guid": "79c7e3d0-c299-4dcb-8224-4455121ee9b0",
        "_uuid": "d629ff2d2480ee46fbb7e2d37f6b5fab8052498a",
        "trusted": true,
        "collapsed": true
      },
      "cell_type": "code",
      "source": "# Builing a calculator using python\nn1 = float(input(\"Enter the first number: \"))\nop = input(\"Enter the operator: \")\nn2 = float(input(\"Enter the second number: \"))\n \nif op == \"+\":\n    print(n1 + n2)\nelif op == \"-\":\n    print(n1 - n2)\nelif op == \"*\":\n    print(n1 * n2)\nelif op == \"/\":\n    print(n1 / n2)\nelse:\n    print(\" Invalid operator\")",
      "execution_count": null,
      "outputs": []
    },
    {
      "metadata": {
        "trusted": true,
        "collapsed": true,
        "_uuid": "836ad3b8a6600dbe4280f1dc37df4db710ddc8f7"
      },
      "cell_type": "code",
      "source": "",
      "execution_count": null,
      "outputs": []
    },
    {
      "metadata": {
        "trusted": true,
        "collapsed": true,
        "_uuid": "bbef6b174be85c86537670ffeb282202995c9938"
      },
      "cell_type": "code",
      "source": "",
      "execution_count": null,
      "outputs": []
    },
    {
      "metadata": {
        "trusted": true,
        "_uuid": "29536964caafeb3f30f6370cd5cb5ff255133533",
        "collapsed": true
      },
      "cell_type": "code",
      "source": "# Building Dictonary using python\n\nmonth_Conversions = {\n    \"Jan\": \"January\",# \"Key\": \"Value\"\n    \"Feb\" : \"February\",\n    \"Mar\" : \"March\",\n    \"Apr\" : \"April\",\n    \"May\" : \"May\",\n    \"Jun\" : \"June\",\n    \"Jul\" : \"July\",\n    \"Aug\" : \"August\",\n    \"Sep\" : \"September\",\n    \"Oct\" : \"October\",\n    \"Nov\" : \"November\",\n    \"Dec\" : \"December\",\n    \n}\n\nprint(month_Conversions.get(\"Decu\", \"Not a vaild key\"))\n",
      "execution_count": null,
      "outputs": []
    },
    {
      "metadata": {
        "trusted": true,
        "collapsed": true,
        "_uuid": "438a2d8948f84066f72ee1793b46b6a68e11f865"
      },
      "cell_type": "code",
      "source": "",
      "execution_count": null,
      "outputs": []
    },
    {
      "metadata": {
        "trusted": true,
        "_uuid": "e03f7c2b940b50aa94eefc83b3147e0d4cfb3dbe",
        "collapsed": true
      },
      "cell_type": "code",
      "source": "# While Loop\ni = 1\nwhile i <= 10:\n    print(1)\ni = i+1\nprint(\"Done this loop\")",
      "execution_count": null,
      "outputs": []
    },
    {
      "metadata": {
        "trusted": true,
        "collapsed": true,
        "_uuid": "4801ee8c4f48f01cd7c892593d6f0286edb942cc"
      },
      "cell_type": "code",
      "source": "",
      "execution_count": null,
      "outputs": []
    },
    {
      "metadata": {
        "trusted": true,
        "collapsed": true,
        "_uuid": "a9fe8f5990a5c511f20a32caa40bfca2ca9963a0"
      },
      "cell_type": "code",
      "source": "",
      "execution_count": null,
      "outputs": []
    },
    {
      "metadata": {
        "trusted": true,
        "collapsed": true,
        "_uuid": "0a0a896add82cf1711434fdef89764ab9ba3b2c6"
      },
      "cell_type": "code",
      "source": "",
      "execution_count": null,
      "outputs": []
    },
    {
      "metadata": {
        "trusted": true,
        "collapsed": true,
        "_uuid": "ed30de3818c23fb9b061cf55dfdfe8d0832a3d49"
      },
      "cell_type": "code",
      "source": "",
      "execution_count": null,
      "outputs": []
    },
    {
      "metadata": {
        "trusted": true,
        "collapsed": true,
        "_uuid": "9a052da0a664075df96f76847ffc2261e3ec410d"
      },
      "cell_type": "code",
      "source": "",
      "execution_count": null,
      "outputs": []
    },
    {
      "metadata": {
        "trusted": true,
        "collapsed": true,
        "_uuid": "af6a55dc0393c42075d012d286827314516cc3e0"
      },
      "cell_type": "code",
      "source": "",
      "execution_count": null,
      "outputs": []
    },
    {
      "metadata": {
        "trusted": true,
        "collapsed": true,
        "_uuid": "1639e3e3ed684f4c06550d728d3989b1f59ce7e1"
      },
      "cell_type": "code",
      "source": "",
      "execution_count": null,
      "outputs": []
    },
    {
      "metadata": {
        "trusted": true,
        "collapsed": true,
        "_uuid": "7a0dd6934fa618778a62a2f9c5ee511e73259c58"
      },
      "cell_type": "code",
      "source": "",
      "execution_count": null,
      "outputs": []
    },
    {
      "metadata": {
        "trusted": true,
        "collapsed": true,
        "_uuid": "4dab95ce018be5fc398680c35b7d8383a321561e"
      },
      "cell_type": "code",
      "source": "",
      "execution_count": null,
      "outputs": []
    },
    {
      "metadata": {
        "trusted": true,
        "collapsed": true,
        "_uuid": "78a3894a324ae741dc2dbe918433691761a48c3d"
      },
      "cell_type": "code",
      "source": "",
      "execution_count": null,
      "outputs": []
    },
    {
      "metadata": {
        "trusted": true,
        "collapsed": true,
        "_uuid": "966d3309fbaed29bc7c71e646a9ea5dd53781cc1"
      },
      "cell_type": "code",
      "source": "",
      "execution_count": null,
      "outputs": []
    },
    {
      "metadata": {
        "trusted": true,
        "collapsed": true,
        "_uuid": "7ffacde3b2a44481429b9f02e588f5b549dda332"
      },
      "cell_type": "code",
      "source": "",
      "execution_count": null,
      "outputs": []
    },
    {
      "metadata": {
        "trusted": true,
        "collapsed": true,
        "_uuid": "f2e6754d4334b5cfc48de2b1f2f7ea88b4305ead"
      },
      "cell_type": "code",
      "source": "",
      "execution_count": null,
      "outputs": []
    },
    {
      "metadata": {
        "trusted": true,
        "collapsed": true,
        "_uuid": "e4b4e24aa6c96f5f6aea0ce2290482a9e4925bf2"
      },
      "cell_type": "code",
      "source": "",
      "execution_count": null,
      "outputs": []
    },
    {
      "metadata": {
        "trusted": true,
        "collapsed": true,
        "_uuid": "64276b03199f15539ad7d203d5a48ff718be9e94"
      },
      "cell_type": "code",
      "source": "",
      "execution_count": null,
      "outputs": []
    },
    {
      "metadata": {
        "trusted": true,
        "collapsed": true,
        "_uuid": "b8be39e619cd5823821912d240b9bbbe16b16f80"
      },
      "cell_type": "code",
      "source": "",
      "execution_count": null,
      "outputs": []
    },
    {
      "metadata": {
        "trusted": true,
        "collapsed": true,
        "_uuid": "864f8f413f993a75bce8ab4d6a92feadef0e0763"
      },
      "cell_type": "code",
      "source": "\n\n\n",
      "execution_count": null,
      "outputs": []
    }
  ],
  "metadata": {
    "kernelspec": {
      "display_name": "Python 3",
      "language": "python",
      "name": "python3"
    },
    "language_info": {
      "name": "python",
      "version": "3.6.6",
      "mimetype": "text/x-python",
      "codemirror_mode": {
        "name": "ipython",
        "version": 3
      },
      "pygments_lexer": "ipython3",
      "nbconvert_exporter": "python",
      "file_extension": ".py"
    }
  },
  "nbformat": 4,
  "nbformat_minor": 1
}