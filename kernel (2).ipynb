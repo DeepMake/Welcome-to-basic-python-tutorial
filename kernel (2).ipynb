{
  "cells": [
    {
      "metadata": {
        "_uuid": "8f2839f25d086af736a60e9eeb907d3b93b6e0e5",
        "_cell_guid": "b1076dfc-b9ad-4769-8c92-a6c4dae69d19",
        "trusted": true,
        "collapsed": true
      },
      "cell_type": "code",
      "source": "# This Python 3 environment comes with many helpful analytics libraries installed\n# It is defined by the kaggle/python docker image: https://github.com/kaggle/docker-python\n# For example, here's several helpful packages to load in \n\nimport numpy as np # linear algebra\nimport pandas as pd # data processing, CSV file I/O (e.g. pd.read_csv)\n\n# Input data files are available in the \"../input/\" directory.\n# For example, running this (by clicking run or pressing Shift+Enter) will list the files in the input directory\n\nimport os\nprint(os.listdir(\"../input\"))\n\n# Any results you write to the current directory are saved as output.",
      "execution_count": null,
      "outputs": []
    },
    {
      "metadata": {
        "_cell_guid": "79c7e3d0-c299-4dcb-8224-4455121ee9b0",
        "_uuid": "d629ff2d2480ee46fbb7e2d37f6b5fab8052498a",
        "trusted": true,
        "collapsed": true
      },
      "cell_type": "code",
      "source": "coordinates = [(4, 5), (2, 3), (1, 2)]\n\nprint(coordinates[1])\n",
      "execution_count": null,
      "outputs": []
    },
    {
      "metadata": {
        "trusted": true,
        "collapsed": true,
        "_uuid": "29caed64e3e07e43259fb1b07dd5772721912b66"
      },
      "cell_type": "code",
      "source": "",
      "execution_count": null,
      "outputs": []
    },
    {
      "metadata": {
        "trusted": true,
        "collapsed": true,
        "_uuid": "fddbb97c8fa06f014436c152060ebffe1dd85790"
      },
      "cell_type": "code",
      "source": "",
      "execution_count": null,
      "outputs": []
    },
    {
      "metadata": {
        "trusted": true,
        "_uuid": "2fc5918d3f5af90c68fd16963d8f8e745a09407e",
        "collapsed": true
      },
      "cell_type": "code",
      "source": "# Function\ndef say_hi():\n    #creating the function by 'def'\n    print(\"Hello user\")\nsay_hi()    #calling the function\n",
      "execution_count": null,
      "outputs": []
    },
    {
      "metadata": {
        "trusted": true,
        "_uuid": "c77db2cd5ca921c47f0232f9020e3abb738b3d36",
        "collapsed": true
      },
      "cell_type": "code",
      "source": "def say_hi():\n    print(\"Hello user\")\nprint(\"1st\")    \nsay_hi()\nprint(\"2nd\")",
      "execution_count": null,
      "outputs": []
    },
    {
      "metadata": {
        "trusted": true,
        "_uuid": "d5046b492e5d332d603304833dc6735cc6e07e5b",
        "collapsed": true
      },
      "cell_type": "code",
      "source": "def say_hi(name, age):\n    #name and age are parameter , we are passing the parameter through the function\n    print(\"Hello \" + name + \", you are \" + age)\nsay_hi(\"ram\", \"90\")\nsay_hi(\"shyam\", \"67\")",
      "execution_count": null,
      "outputs": []
    },
    {
      "metadata": {
        "trusted": true,
        "_uuid": "cd1e99e04b2969462538ac04eeebb7a7d0cdf29a",
        "collapsed": true
      },
      "cell_type": "code",
      "source": "# Return Satement\ndef cube(num):\n    return num*num*num\n    \nresult = cube(4)  # CREATING A VARIABLE  \nprint(result)",
      "execution_count": null,
      "outputs": []
    },
    {
      "metadata": {
        "trusted": true,
        "_uuid": "fd005f35a4dac1bdf40b30f35f3f5f117b439db0",
        "collapsed": true
      },
      "cell_type": "code",
      "source": "#If satement\nis_male = True\nis_tall = True\nif is_male or is_tall:\n    print(\"You are a Male \")\nelse:\n    print(\"You are not a Male\")",
      "execution_count": null,
      "outputs": []
    },
    {
      "metadata": {
        "trusted": true,
        "_uuid": "04b13c28e6c8285e6fd565dc435832c8e520d145",
        "collapsed": true
      },
      "cell_type": "code",
      "source": "#If satement\nis_male = True\nis_tall = False\nif is_male or is_tall:\n    print(\"You are a Male or tall or both \")\nelse:\n    print(\"You are neither Male nor tall\")",
      "execution_count": null,
      "outputs": []
    },
    {
      "metadata": {
        "trusted": true,
        "_uuid": "9a2f14e2a8235038ebaed78ae32c332fdd83cab5",
        "collapsed": true
      },
      "cell_type": "code",
      "source": "#If satement\nis_male = False\nis_tall = False\nif is_male or is_tall: # in OR satement one condition have to be true\n    print(\"You are a Male or tall or both \")\nelse:\n    print(\"You are neither Male nor tall\")",
      "execution_count": null,
      "outputs": []
    },
    {
      "metadata": {
        "trusted": true,
        "_uuid": "5199bd10d8aef0cf960b61ad3b50831c4be1d22b",
        "collapsed": true
      },
      "cell_type": "code",
      "source": "#If satement\nis_male = True\nis_tall = False\nif is_male and is_tall: # in AND satement both condition have to be true\n    print(\"You are a Male or tall or both \")\nelse:\n    print(\"You are neither Male nor tall\")",
      "execution_count": null,
      "outputs": []
    },
    {
      "metadata": {
        "trusted": true,
        "_uuid": "c4f1f2f9ad7a8448ac45765533314a8014ebca2f",
        "collapsed": true
      },
      "cell_type": "code",
      "source": "#If satement\nis_male = True\nis_tall = True\nif is_male and is_tall: # in AND satement both condition have to be true\n    print(\"You are a tall male\")\nelse:\n    print(\"You are neither Male nor tall\")",
      "execution_count": null,
      "outputs": []
    },
    {
      "metadata": {
        "trusted": true,
        "_uuid": "1122e0d6c27710b21cbdf74fdbd230e8f1d83eb7",
        "collapsed": true
      },
      "cell_type": "code",
      "source": "#else if statement \nis_male = True\nis_tall = False\nif is_male and is_tall:\n    print(\"You are a tall male\")\nelif is_male and not(is_tall):\n    print(\"You are a short male\")\nelif not(is_male) and is_tall:\n    print(\"You are not a male but tall\")    \nelse:\n    print(\"You are neither Male nor tall\")",
      "execution_count": null,
      "outputs": []
    },
    {
      "metadata": {
        "trusted": true,
        "_uuid": "faad633bf8af6e84407f6e8e7baae91bda2a1b74",
        "collapsed": true
      },
      "cell_type": "code",
      "source": "# max number finder\ndef max_num(n1, n2, n3):\n    if n1 >= n2 and n1 >= n3:\n        return n1\n    elif n2 >= n1 and n2 >= n3:\n        return n2\n    else:\n        return n3\n    \nprint(max_num(300, 30, 2))   ",
      "execution_count": null,
      "outputs": []
    },
    {
      "metadata": {
        "_kg_hide-output": true,
        "trusted": true,
        "collapsed": true,
        "_uuid": "57831ccfac7cb318a765670770d8d17baf7645fd"
      },
      "cell_type": "code",
      "source": "",
      "execution_count": null,
      "outputs": []
    },
    {
      "metadata": {
        "trusted": true,
        "collapsed": true,
        "_uuid": "956c050d490e3e1fafbcf5b8739aeb180940d264"
      },
      "cell_type": "code",
      "source": "",
      "execution_count": null,
      "outputs": []
    },
    {
      "metadata": {
        "trusted": true,
        "collapsed": true,
        "_uuid": "3ca9491c2cfd93dd96887535c8f1b1fd59188cb4"
      },
      "cell_type": "code",
      "source": "# Builing a calculator using python\nn1 = float(input(\"Enter the first number: \"))\nn1 = input(\"Enter the operator: \")\nn2 = float(input(\"Enter the second number: \"))",
      "execution_count": null,
      "outputs": []
    },
    {
      "metadata": {
        "trusted": true,
        "collapsed": true,
        "_uuid": "7522cf8330929a62e6e21c882c3019230e701eac"
      },
      "cell_type": "code",
      "source": "",
      "execution_count": null,
      "outputs": []
    },
    {
      "metadata": {
        "trusted": true,
        "collapsed": true,
        "_uuid": "98f5a86cf47e2421f7e717f6d2e0c4064ed6bcd0"
      },
      "cell_type": "code",
      "source": "",
      "execution_count": null,
      "outputs": []
    },
    {
      "metadata": {
        "trusted": true,
        "collapsed": true,
        "_uuid": "31f7b0ed1aeaad1df5b6e8e646212afe035b9d23"
      },
      "cell_type": "code",
      "source": "",
      "execution_count": null,
      "outputs": []
    },
    {
      "metadata": {
        "trusted": true,
        "collapsed": true,
        "_uuid": "da6b9ce7afc2ce596db117ff049915628e38e3ed"
      },
      "cell_type": "code",
      "source": "",
      "execution_count": null,
      "outputs": []
    },
    {
      "metadata": {
        "trusted": true,
        "collapsed": true,
        "_uuid": "90a8c935127837a51ba70bdcf08525086b9188ae"
      },
      "cell_type": "code",
      "source": "",
      "execution_count": null,
      "outputs": []
    },
    {
      "metadata": {
        "trusted": true,
        "collapsed": true,
        "_uuid": "bb4b51e730a95e64e7eac1a2811898ff1be936b4"
      },
      "cell_type": "code",
      "source": "",
      "execution_count": null,
      "outputs": []
    },
    {
      "metadata": {
        "trusted": true,
        "collapsed": true,
        "_uuid": "f0584c9668c1c68c314d3eb869da4bfbb6c70ba5"
      },
      "cell_type": "code",
      "source": "",
      "execution_count": null,
      "outputs": []
    },
    {
      "metadata": {
        "trusted": true,
        "collapsed": true,
        "_uuid": "2cbf7386b898357f14fb8a1e193350852bbb979d"
      },
      "cell_type": "code",
      "source": "",
      "execution_count": null,
      "outputs": []
    },
    {
      "metadata": {
        "trusted": true,
        "collapsed": true,
        "_uuid": "b6a760945359a5fa6ab9d582c16a79daa9557798"
      },
      "cell_type": "code",
      "source": "",
      "execution_count": null,
      "outputs": []
    },
    {
      "metadata": {
        "trusted": true,
        "collapsed": true,
        "_uuid": "1de50371b9c8c5b5413449d03e902419c74cc3ec"
      },
      "cell_type": "code",
      "source": "",
      "execution_count": null,
      "outputs": []
    },
    {
      "metadata": {
        "trusted": true,
        "collapsed": true,
        "_uuid": "d441592e4cb14eb6418591355732c76f982556d9"
      },
      "cell_type": "code",
      "source": "",
      "execution_count": null,
      "outputs": []
    },
    {
      "metadata": {
        "trusted": true,
        "collapsed": true,
        "_uuid": "125a95c01402f9e89295ac3d697f7fbcc3737c5d"
      },
      "cell_type": "code",
      "source": "",
      "execution_count": null,
      "outputs": []
    },
    {
      "metadata": {
        "trusted": true,
        "collapsed": true,
        "_uuid": "ac247fe8ee7c420188d081e534b14bf00589c191"
      },
      "cell_type": "code",
      "source": "",
      "execution_count": null,
      "outputs": []
    },
    {
      "metadata": {
        "trusted": true,
        "collapsed": true,
        "_uuid": "0daa099ff044754bcd3b7915edd10c916db9e15d"
      },
      "cell_type": "code",
      "source": "",
      "execution_count": null,
      "outputs": []
    },
    {
      "metadata": {
        "trusted": true,
        "collapsed": true,
        "_uuid": "3a56f1757d90641d24463b2a61bd17ef2bc00e74"
      },
      "cell_type": "code",
      "source": "",
      "execution_count": null,
      "outputs": []
    },
    {
      "metadata": {
        "trusted": true,
        "collapsed": true,
        "_uuid": "1053a152fca9d52bfa166cfb9a802b0135ff691d"
      },
      "cell_type": "code",
      "source": "",
      "execution_count": null,
      "outputs": []
    },
    {
      "metadata": {
        "trusted": true,
        "collapsed": true,
        "_uuid": "dcc569446f4f8cd8f1ad0ecac5e91104bb8aacc7"
      },
      "cell_type": "code",
      "source": "",
      "execution_count": null,
      "outputs": []
    },
    {
      "metadata": {
        "trusted": true,
        "collapsed": true,
        "_uuid": "da0df42b1dbf2ad84135dbd5dc5d928abd72d443"
      },
      "cell_type": "code",
      "source": "",
      "execution_count": null,
      "outputs": []
    },
    {
      "metadata": {
        "trusted": true,
        "collapsed": true,
        "_uuid": "762a0fd69aae5234bfecccaa896330c287258c9f"
      },
      "cell_type": "code",
      "source": "",
      "execution_count": null,
      "outputs": []
    },
    {
      "metadata": {
        "trusted": true,
        "collapsed": true,
        "_uuid": "6f189a88ba7e511fb563fae8259ff05a2c6adfe1"
      },
      "cell_type": "code",
      "source": "",
      "execution_count": null,
      "outputs": []
    },
    {
      "metadata": {
        "trusted": true,
        "collapsed": true,
        "_uuid": "28f9b02f795b4bf37560437d52654f1a24ccf1cf"
      },
      "cell_type": "code",
      "source": "",
      "execution_count": null,
      "outputs": []
    },
    {
      "metadata": {
        "trusted": true,
        "collapsed": true,
        "_uuid": "7e4a8d68ae56edde67353bdd1c7ee76eee44b63d"
      },
      "cell_type": "code",
      "source": "",
      "execution_count": null,
      "outputs": []
    },
    {
      "metadata": {
        "trusted": true,
        "collapsed": true,
        "_uuid": "445619bf2ce3aa44e3ab9bf3a5309924e461dc5b"
      },
      "cell_type": "code",
      "source": "",
      "execution_count": null,
      "outputs": []
    },
    {
      "metadata": {
        "trusted": true,
        "collapsed": true,
        "_uuid": "8ad94ba7daabcfd60b3d65fb819f31c8b985329e"
      },
      "cell_type": "code",
      "source": "",
      "execution_count": null,
      "outputs": []
    },
    {
      "metadata": {
        "trusted": true,
        "collapsed": true,
        "_uuid": "dc6c2e2e915acd519c6b82cba253227629b5e898"
      },
      "cell_type": "code",
      "source": "",
      "execution_count": null,
      "outputs": []
    },
    {
      "metadata": {
        "trusted": true,
        "collapsed": true,
        "_uuid": "b71d3ca887c70c781c5bd1746934e41f89e08898"
      },
      "cell_type": "code",
      "source": "",
      "execution_count": null,
      "outputs": []
    },
    {
      "metadata": {
        "trusted": true,
        "collapsed": true,
        "_uuid": "3aab1eb33f9eed7846d66a17924c3c49994d30e8"
      },
      "cell_type": "code",
      "source": "",
      "execution_count": null,
      "outputs": []
    },
    {
      "metadata": {
        "trusted": true,
        "collapsed": true,
        "_uuid": "40618e3c9c21bc9fa08c9e42768569cbdd900893"
      },
      "cell_type": "code",
      "source": "",
      "execution_count": null,
      "outputs": []
    },
    {
      "metadata": {
        "trusted": true,
        "collapsed": true,
        "_uuid": "1c4c3336667663713835f5debe426039153e0f18"
      },
      "cell_type": "code",
      "source": "",
      "execution_count": null,
      "outputs": []
    },
    {
      "metadata": {
        "trusted": true,
        "collapsed": true,
        "_uuid": "1e23f59493a03700bb29af8c3af13e67bf6d00f9"
      },
      "cell_type": "code",
      "source": "",
      "execution_count": null,
      "outputs": []
    },
    {
      "metadata": {
        "trusted": true,
        "collapsed": true,
        "_uuid": "9950a5166f05d1e55c86dea715d7eb7558afb75c"
      },
      "cell_type": "code",
      "source": "",
      "execution_count": null,
      "outputs": []
    }
  ],
  "metadata": {
    "kernelspec": {
      "display_name": "Python 3",
      "language": "python",
      "name": "python3"
    },
    "language_info": {
      "name": "python",
      "version": "3.6.6",
      "mimetype": "text/x-python",
      "codemirror_mode": {
        "name": "ipython",
        "version": 3
      },
      "pygments_lexer": "ipython3",
      "nbconvert_exporter": "python",
      "file_extension": ".py"
    }
  },
  "nbformat": 4,
  "nbformat_minor": 1
}